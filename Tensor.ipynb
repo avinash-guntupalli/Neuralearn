{
  "nbformat": 4,
  "nbformat_minor": 0,
  "metadata": {
    "colab": {
      "provenance": [],
      "authorship_tag": "ABX9TyM71HgeVMKUNDose47srs1W",
      "include_colab_link": true
    },
    "kernelspec": {
      "name": "python3",
      "display_name": "Python 3"
    },
    "language_info": {
      "name": "python"
    }
  },
  "cells": [
    {
      "cell_type": "markdown",
      "metadata": {
        "id": "view-in-github",
        "colab_type": "text"
      },
      "source": [
        "<a href=\"https://colab.research.google.com/github/avinash-guntupalli/Neuralearn/blob/main/Tensor.ipynb\" target=\"_parent\"><img src=\"https://colab.research.google.com/assets/colab-badge.svg\" alt=\"Open In Colab\"/></a>"
      ]
    },
    {
      "cell_type": "code",
      "execution_count": null,
      "metadata": {
        "colab": {
          "base_uri": "https://localhost:8080/"
        },
        "id": "cq6bQ__1G845",
        "outputId": "42f9e718-2c7f-46ec-ad67-0e3255f87306"
      },
      "outputs": [
        {
          "output_type": "stream",
          "name": "stdout",
          "text": [
            "tf.Tensor(4, shape=(), dtype=int32)\n"
          ]
        }
      ],
      "source": [
        "import tensorflow as tf\n",
        "tensor_zero_d = tf.constant(4)\n",
        "print(tensor_zero_d)\n",
        "\n"
      ]
    },
    {
      "cell_type": "code",
      "source": [
        "tensor_one_d = tf.constant([2,0,-3])\n",
        "print(tensor_one_d)\n",
        "# one d tensor\n"
      ],
      "metadata": {
        "colab": {
          "base_uri": "https://localhost:8080/"
        },
        "id": "VkCMknNLHjaG",
        "outputId": "09230830-3a32-4f8b-bc68-3aef3085ff3d"
      },
      "execution_count": null,
      "outputs": [
        {
          "output_type": "stream",
          "name": "stdout",
          "text": [
            "tf.Tensor([ 2  0 -3], shape=(3,), dtype=int32)\n"
          ]
        }
      ]
    },
    {
      "cell_type": "code",
      "source": [
        "tensor_two_d = tf.constant([[1,2,0],[1,2,3],[3,4,5],[8,3,2]])\n",
        "print(tensor_two_d)\n",
        "# two d tensor"
      ],
      "metadata": {
        "colab": {
          "base_uri": "https://localhost:8080/"
        },
        "id": "RwqIpmcPHx1U",
        "outputId": "1ea93b17-d652-4b48-f8af-6dd71cd2e037"
      },
      "execution_count": null,
      "outputs": [
        {
          "output_type": "stream",
          "name": "stdout",
          "text": [
            "tf.Tensor(\n",
            "[[1 2 0]\n",
            " [1 2 3]\n",
            " [3 4 5]\n",
            " [8 3 2]], shape=(4, 3), dtype=int32)\n"
          ]
        }
      ]
    },
    {
      "cell_type": "code",
      "source": [
        "tensor_three_d = tf.constant([\n",
        "    [[1,2,3],[2,3,4]],\n",
        "    [[3,4,5],[4,5,6]],\n",
        "    [[2,4,6],[1,8,6]]\n",
        "])\n",
        "print(tensor_three_d)"
      ],
      "metadata": {
        "colab": {
          "base_uri": "https://localhost:8080/"
        },
        "id": "4ySrETGFImN7",
        "outputId": "e3b4afd8-183f-4d9f-b24b-a80aefc565e4"
      },
      "execution_count": null,
      "outputs": [
        {
          "output_type": "stream",
          "name": "stdout",
          "text": [
            "tf.Tensor(\n",
            "[[[1 2 3]\n",
            "  [2 3 4]]\n",
            "\n",
            " [[3 4 5]\n",
            "  [4 5 6]]\n",
            "\n",
            " [[2 4 6]\n",
            "  [1 8 6]]], shape=(3, 2, 3), dtype=int32)\n"
          ]
        }
      ]
    },
    {
      "cell_type": "code",
      "source": [
        "print(tensor_three_d.ndim, tensor_three_d.shape)"
      ],
      "metadata": {
        "colab": {
          "base_uri": "https://localhost:8080/"
        },
        "id": "0En6t0zMJAI8",
        "outputId": "722fc618-3510-4a1f-c5ec-8f049ed62230"
      },
      "execution_count": null,
      "outputs": [
        {
          "output_type": "stream",
          "name": "stdout",
          "text": [
            "3 (3, 2, 3)\n"
          ]
        }
      ]
    },
    {
      "cell_type": "code",
      "source": [
        "tensor_to_cast = tf.constant([2,3.,4.09])\n",
        "casted_tensor = tf.cast(tensor_to_cast,dtype= tf.int32)\n",
        "\n",
        "print(tensor_to_cast, casted_tensor)"
      ],
      "metadata": {
        "colab": {
          "base_uri": "https://localhost:8080/"
        },
        "id": "YrtdsctDLA94",
        "outputId": "5b5ebb6b-f317-441e-835c-7e7e41fecd92"
      },
      "execution_count": null,
      "outputs": [
        {
          "output_type": "stream",
          "name": "stdout",
          "text": [
            "tf.Tensor([2.   3.   4.09], shape=(3,), dtype=float32) tf.Tensor([2 3 4], shape=(3,), dtype=int32)\n"
          ]
        }
      ]
    },
    {
      "cell_type": "code",
      "source": [
        "tensor_string = tf.constant([\"hello world\",'hi'])\n",
        "print(tensor_string)"
      ],
      "metadata": {
        "colab": {
          "base_uri": "https://localhost:8080/"
        },
        "id": "JWpcqpDoLgB5",
        "outputId": "af93a954-c5c0-4976-d882-b388c12c8d0b"
      },
      "execution_count": null,
      "outputs": [
        {
          "output_type": "stream",
          "name": "stdout",
          "text": [
            "tf.Tensor([b'hello world' b'hi'], shape=(2,), dtype=string)\n"
          ]
        }
      ]
    },
    {
      "cell_type": "code",
      "source": [
        "import numpy as np\n",
        "np_array = np.array([1,2,4])\n",
        "print(np_array)"
      ],
      "metadata": {
        "colab": {
          "base_uri": "https://localhost:8080/"
        },
        "id": "z3hwVxhqL3qB",
        "outputId": "7f2436fd-c29e-4f4d-f6c4-cf4410bae61e"
      },
      "execution_count": null,
      "outputs": [
        {
          "output_type": "stream",
          "name": "stdout",
          "text": [
            "[1 2 4]\n"
          ]
        }
      ]
    },
    {
      "cell_type": "code",
      "source": [
        "# converting the array to tensor\n",
        "con_tensor = tf.convert_to_tensor(np_array)\n",
        "print(con_tensor)"
      ],
      "metadata": {
        "colab": {
          "base_uri": "https://localhost:8080/"
        },
        "id": "FFL6AHEKMHi5",
        "outputId": "194b74cd-7290-4e95-978f-3089c730b23c"
      },
      "execution_count": null,
      "outputs": [
        {
          "output_type": "stream",
          "name": "stdout",
          "text": [
            "tf.Tensor([1 2 4], shape=(3,), dtype=int64)\n"
          ]
        }
      ]
    },
    {
      "cell_type": "code",
      "source": [
        "# eye method\n",
        "\n",
        "eye_tensor = tf.eye(num_rows=3,\n",
        "                    num_columns=5,\n",
        "                    batch_shape=[2,],\n",
        "                    dtype=tf.dtypes.float32,\n",
        "                    name =None)\n",
        "print(3*eye_tensor)\n"
      ],
      "metadata": {
        "colab": {
          "base_uri": "https://localhost:8080/"
        },
        "id": "AaUzphoLMbec",
        "outputId": "73d77f1a-6d27-476d-d60e-e9fdaf24799e"
      },
      "execution_count": null,
      "outputs": [
        {
          "output_type": "stream",
          "name": "stdout",
          "text": [
            "tf.Tensor(\n",
            "[[[3. 0. 0. 0. 0.]\n",
            "  [0. 3. 0. 0. 0.]\n",
            "  [0. 0. 3. 0. 0.]]\n",
            "\n",
            " [[3. 0. 0. 0. 0.]\n",
            "  [0. 3. 0. 0. 0.]\n",
            "  [0. 0. 3. 0. 0.]]], shape=(2, 3, 5), dtype=float32)\n"
          ]
        }
      ]
    },
    {
      "cell_type": "code",
      "source": [
        "fill_tensor = tf.fill(\n",
        "    [1,3,4],5,name=None\n",
        ")\n",
        "print(fill_tensor)"
      ],
      "metadata": {
        "colab": {
          "base_uri": "https://localhost:8080/"
        },
        "id": "wYm_WUq0Ojxa",
        "outputId": "ca60cd7e-6a24-408d-9e6e-e9f7c28ac92d"
      },
      "execution_count": null,
      "outputs": [
        {
          "output_type": "stream",
          "name": "stdout",
          "text": [
            "tf.Tensor(\n",
            "[[[5 5 5 5]\n",
            "  [5 5 5 5]\n",
            "  [5 5 5 5]]], shape=(1, 3, 4), dtype=int32)\n"
          ]
        }
      ]
    },
    {
      "cell_type": "code",
      "source": [
        "# random distribution"
      ],
      "metadata": {
        "id": "v3Vtt6CkPCSI"
      },
      "execution_count": null,
      "outputs": []
    },
    {
      "cell_type": "code",
      "source": [
        "from pickle import NONE\n",
        "# random uniform distribution\n",
        "\n",
        "random_tensor = tf.random.uniform(\n",
        "    [5,],\n",
        "    minval=90,\n",
        "    maxval=100,\n",
        "    dtype=tf.dtypes.float32,\n",
        "    seed=None,\n",
        "    name=None\n",
        ")\n",
        "\n",
        "print(random_tensor)"
      ],
      "metadata": {
        "colab": {
          "base_uri": "https://localhost:8080/"
        },
        "id": "7krR2UqFkpqs",
        "outputId": "9b43007a-5bd1-4164-997b-5854eabe98a0"
      },
      "execution_count": null,
      "outputs": [
        {
          "output_type": "stream",
          "name": "stdout",
          "text": [
            "tf.Tensor([92.14585  91.62616  91.655594 97.40715  90.0958  ], shape=(5,), dtype=float32)\n"
          ]
        }
      ]
    },
    {
      "cell_type": "code",
      "source": [],
      "metadata": {
        "id": "bdh9zCNjoqa-"
      },
      "execution_count": null,
      "outputs": []
    }
  ]
}