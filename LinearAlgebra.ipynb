{
  "nbformat": 4,
  "nbformat_minor": 0,
  "metadata": {
    "colab": {
      "provenance": [],
      "authorship_tag": "ABX9TyPUp+MdtSXgeDf+MDiTsDgL",
      "include_colab_link": true
    },
    "kernelspec": {
      "name": "python3",
      "display_name": "Python 3"
    },
    "language_info": {
      "name": "python"
    }
  },
  "cells": [
    {
      "cell_type": "markdown",
      "metadata": {
        "id": "view-in-github",
        "colab_type": "text"
      },
      "source": [
        "<a href=\"https://colab.research.google.com/github/avinash-guntupalli/Neuralearn/blob/main/LinearAlgebra.ipynb\" target=\"_parent\"><img src=\"https://colab.research.google.com/assets/colab-badge.svg\" alt=\"Open In Colab\"/></a>"
      ]
    },
    {
      "cell_type": "code",
      "execution_count": 5,
      "metadata": {
        "colab": {
          "base_uri": "https://localhost:8080/"
        },
        "id": "NtQAlLuwdX9w",
        "outputId": "e9415454-e839-472b-adb5-bc3fac7128b2"
      },
      "outputs": [
        {
          "output_type": "execute_result",
          "data": {
            "text/plain": [
              "<tf.Tensor: shape=(2, 2), dtype=int32, numpy=\n",
              "array([[28, 36],\n",
              "       [42, 53]], dtype=int32)>"
            ]
          },
          "metadata": {},
          "execution_count": 5
        }
      ],
      "source": [
        "import tensorflow as tf\n",
        "\n",
        "first_mat = tf.constant([[1,2,3],[2,3,4]])\n",
        "second_mat = tf.constant([[4,5],[6,5],[4,7]])\n",
        "\n",
        "tf.linalg.matmul(\n",
        "    first_mat,second_mat,transpose_a = False, transpose_b = False,\n",
        "    adjoint_a = False, adjoint_b = False,\n",
        "    a_is_sparse=False, b_is_sparse= False, output_type=None, name=None\n",
        ")\n",
        "\n"
      ]
    },
    {
      "cell_type": "code",
      "source": [
        "# easy multplication"
      ],
      "metadata": {
        "id": "vC1JKr78hgMV"
      },
      "execution_count": 6,
      "outputs": []
    },
    {
      "cell_type": "code",
      "source": [
        "first_mat@second_mat"
      ],
      "metadata": {
        "colab": {
          "base_uri": "https://localhost:8080/"
        },
        "id": "WdY75qiehiDv",
        "outputId": "9b5457a9-b8f5-4aee-a569-22557210523c"
      },
      "execution_count": 7,
      "outputs": [
        {
          "output_type": "execute_result",
          "data": {
            "text/plain": [
              "<tf.Tensor: shape=(2, 2), dtype=int32, numpy=\n",
              "array([[28, 36],\n",
              "       [42, 53]], dtype=int32)>"
            ]
          },
          "metadata": {},
          "execution_count": 7
        }
      ]
    },
    {
      "cell_type": "code",
      "source": [
        "tf.transpose(first_mat)"
      ],
      "metadata": {
        "colab": {
          "base_uri": "https://localhost:8080/"
        },
        "id": "3jYG71CNhnhQ",
        "outputId": "5bcb4b4b-0e8e-4021-8670-6eef742fbb8b"
      },
      "execution_count": 8,
      "outputs": [
        {
          "output_type": "execute_result",
          "data": {
            "text/plain": [
              "<tf.Tensor: shape=(3, 2), dtype=int32, numpy=\n",
              "array([[1, 2],\n",
              "       [2, 3],\n",
              "       [3, 4]], dtype=int32)>"
            ]
          },
          "metadata": {},
          "execution_count": 8
        }
      ]
    },
    {
      "cell_type": "code",
      "source": [
        "# band part\n",
        "\n",
        "band_mat = tf.constant([[2,3,4],[5,8,4],[8,6,9]])\n",
        "tf.linalg.band_part(band_mat,0,0)\n",
        "\n",
        "# 0 -1 upper traingle\n",
        "# -1 0 lower triangle"
      ],
      "metadata": {
        "colab": {
          "base_uri": "https://localhost:8080/"
        },
        "id": "MiThZVyShst5",
        "outputId": "9a53f98b-c668-4104-cb5a-2d310eae8cc1"
      },
      "execution_count": 11,
      "outputs": [
        {
          "output_type": "execute_result",
          "data": {
            "text/plain": [
              "<tf.Tensor: shape=(3, 3), dtype=int32, numpy=\n",
              "array([[2, 0, 0],\n",
              "       [0, 8, 0],\n",
              "       [0, 0, 9]], dtype=int32)>"
            ]
          },
          "metadata": {},
          "execution_count": 11
        }
      ]
    },
    {
      "cell_type": "code",
      "source": [
        "\n",
        "band_mat_type= tf.constant([[1,5,6],[3,6,7],[8.0,55,4]])\n",
        "\n",
        "\n"
      ],
      "metadata": {
        "id": "kGoyT20ooYbc"
      },
      "execution_count": 14,
      "outputs": []
    },
    {
      "cell_type": "code",
      "source": [
        "# singular value decomposition\n",
        "\n",
        "# einsum\n",
        "\n",
        "import numpy as np\n",
        "mat_a = np.array([[2,6,5,2],\n",
        "                 [2,-2,2,3],\n",
        "                 [1,5,4,0]])\n",
        "mat_b = np.array([[2,9,0,3,0],\n",
        "                 [3,6,8,-2,2],\n",
        "                 [1,3,5,0,1],\n",
        "                 [3,0,2,0,5]])\n",
        "print(mat_a.shape)\n",
        "print(mat_b.shape)\n",
        "print(np.matmul(mat_a,mat_b))\n",
        "\n",
        "print(\"einsum\")\n",
        "print(np.einsum(\"ij,jk -> ik\", mat_a,mat_b)) # easy to use"
      ],
      "metadata": {
        "colab": {
          "base_uri": "https://localhost:8080/"
        },
        "id": "1iLBeMuDqAQG",
        "outputId": "77fb9966-13fa-4933-9541-2e0105b2ffd3"
      },
      "execution_count": 20,
      "outputs": [
        {
          "output_type": "stream",
          "name": "stdout",
          "text": [
            "(3, 4)\n",
            "(4, 5)\n",
            "[[33 69 77 -6 27]\n",
            " [ 9 12  0 10 13]\n",
            " [21 51 60 -7 14]]\n",
            "einsum\n",
            "[[33 69 77 -6 27]\n",
            " [ 9 12  0 10 13]\n",
            " [21 51 60 -7 14]]\n"
          ]
        }
      ]
    },
    {
      "cell_type": "code",
      "source": [
        "mat_c = np.array([[1,5,7,8],[4,7,9,23],[7,4,6,44]])\n",
        "print(np.einsum('ij,ij -> ij', mat_a,mat_c))"
      ],
      "metadata": {
        "colab": {
          "base_uri": "https://localhost:8080/"
        },
        "id": "gGrgEzXvsTYR",
        "outputId": "2b93bb02-7d29-48b8-9d90-b9169157cc39"
      },
      "execution_count": 24,
      "outputs": [
        {
          "output_type": "stream",
          "name": "stdout",
          "text": [
            "[[  2  30  35  16]\n",
            " [  8 -14  18  69]\n",
            " [  7  20  24   0]]\n"
          ]
        }
      ]
    },
    {
      "cell_type": "code",
      "source": [
        "# einsum operation for matrix transpose\n",
        "\n",
        "print(np.einsum('ij ->ji',mat_c))\n",
        "\n"
      ],
      "metadata": {
        "colab": {
          "base_uri": "https://localhost:8080/"
        },
        "id": "Snruo-3Js5v4",
        "outputId": "ddd284e1-35b2-44cf-e6b9-545629ec0393"
      },
      "execution_count": 26,
      "outputs": [
        {
          "output_type": "stream",
          "name": "stdout",
          "text": [
            "[[ 1  4  7]\n",
            " [ 5  7  4]\n",
            " [ 7  9  6]\n",
            " [ 8 23 44]]\n"
          ]
        }
      ]
    }
  ]
}