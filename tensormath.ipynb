{
  "nbformat": 4,
  "nbformat_minor": 0,
  "metadata": {
    "colab": {
      "provenance": [],
      "authorship_tag": "ABX9TyM4pKHAImsEIwVirGsQssdZ",
      "include_colab_link": true
    },
    "kernelspec": {
      "name": "python3",
      "display_name": "Python 3"
    },
    "language_info": {
      "name": "python"
    }
  },
  "cells": [
    {
      "cell_type": "markdown",
      "metadata": {
        "id": "view-in-github",
        "colab_type": "text"
      },
      "source": [
        "<a href=\"https://colab.research.google.com/github/avinash-guntupalli/Neuralearn/blob/main/tensormath.ipynb\" target=\"_parent\"><img src=\"https://colab.research.google.com/assets/colab-badge.svg\" alt=\"Open In Colab\"/></a>"
      ]
    },
    {
      "cell_type": "code",
      "execution_count": 4,
      "metadata": {
        "colab": {
          "base_uri": "https://localhost:8080/"
        },
        "id": "LEGquFuTtGsj",
        "outputId": "d2358bfc-8035-4086-e2f5-eb4eaa10eb08"
      },
      "outputs": [
        {
          "output_type": "execute_result",
          "data": {
            "text/plain": [
              "<tf.Tensor: shape=(2,), dtype=float32, numpy=array([2.35, 8.9 ], dtype=float32)>"
            ]
          },
          "metadata": {},
          "execution_count": 4
        }
      ],
      "source": [
        "import tensorflow as tf\n",
        "\n",
        "x_abs = tf.constant([2.35,-8.9])\n",
        "tf.abs(x_abs)\n"
      ]
    },
    {
      "cell_type": "code",
      "source": [
        "x_abs_complex = tf.constant([2+3j])\n",
        "tf.abs(x_abs_complex)"
      ],
      "metadata": {
        "colab": {
          "base_uri": "https://localhost:8080/"
        },
        "id": "6YGePuiSuMKW",
        "outputId": "3299dfb1-1914-4cd6-febd-7565566ddc4e"
      },
      "execution_count": 5,
      "outputs": [
        {
          "output_type": "execute_result",
          "data": {
            "text/plain": [
              "<tf.Tensor: shape=(1,), dtype=float64, numpy=array([3.60555128])>"
            ]
          },
          "metadata": {},
          "execution_count": 5
        }
      ]
    },
    {
      "cell_type": "code",
      "source": [
        "# tf add is the element wise addition\n",
        "\n",
        "x_1 = tf.constant([5,3,6,6])\n",
        "x_2 = tf.constant([3,4,5,6])\n",
        "x_3 = tf.add(x_1,x_2)\n",
        "print(x_3)"
      ],
      "metadata": {
        "colab": {
          "base_uri": "https://localhost:8080/"
        },
        "id": "mr_j-btfuZa0",
        "outputId": "b69f7213-6df9-4958-e394-64e83b770c14"
      },
      "execution_count": 7,
      "outputs": [
        {
          "output_type": "stream",
          "name": "stdout",
          "text": [
            "tf.Tensor([ 8  7 11 12], shape=(4,), dtype=int32)\n"
          ]
        }
      ]
    },
    {
      "cell_type": "code",
      "source": [
        "x_4 = tf.constant([7])\n",
        "print(tf.math.add(x_1,x_4))"
      ],
      "metadata": {
        "colab": {
          "base_uri": "https://localhost:8080/"
        },
        "id": "utJt0aUlxUsU",
        "outputId": "6810d7af-f1e3-4b7b-f9e5-2eb1671a6f39"
      },
      "execution_count": 8,
      "outputs": [
        {
          "output_type": "stream",
          "name": "stdout",
          "text": [
            "tf.Tensor([12 10 13 13], shape=(4,), dtype=int32)\n"
          ]
        }
      ]
    },
    {
      "cell_type": "code",
      "source": [
        "# mutiply\n",
        "\n",
        "x_5 = [[5],[6],[7]]\n",
        "print(tf.math.multiply(x_1,x_5))"
      ],
      "metadata": {
        "colab": {
          "base_uri": "https://localhost:8080/"
        },
        "id": "qOjNwU0dzJmH",
        "outputId": "4d782e87-043c-4d04-d2aa-463f94d66e8d"
      },
      "execution_count": 9,
      "outputs": [
        {
          "output_type": "stream",
          "name": "stdout",
          "text": [
            "tf.Tensor(\n",
            "[[25 15 30 30]\n",
            " [30 18 36 36]\n",
            " [35 21 42 42]], shape=(3, 4), dtype=int32)\n"
          ]
        }
      ]
    },
    {
      "cell_type": "code",
      "source": [
        "#arg max  => where the maximum value is\n",
        "\n",
        "x = tf.constant([1,2,3,4])\n",
        "print(tf.math.argmax(x))"
      ],
      "metadata": {
        "colab": {
          "base_uri": "https://localhost:8080/"
        },
        "id": "NsMHrxKcz8bE",
        "outputId": "e6f8ecd4-855c-4a10-c5b6-aa233e9913e4"
      },
      "execution_count": 11,
      "outputs": [
        {
          "output_type": "stream",
          "name": "stdout",
          "text": [
            "tf.Tensor(3, shape=(), dtype=int64)\n"
          ]
        }
      ]
    },
    {
      "cell_type": "code",
      "source": [
        "y = tf.constant([[1,2,3,4],[4,6,7,3],[8,9,33,7]])\n",
        "\n",
        "\n",
        "print(tf.math.argmax(y,1))\n",
        "\n",
        "\n",
        "# max value in each axis x-axis"
      ],
      "metadata": {
        "colab": {
          "base_uri": "https://localhost:8080/"
        },
        "id": "Atiq0iWi0zOT",
        "outputId": "f06f42e5-1d70-4275-9878-4d16b9995df7"
      },
      "execution_count": 14,
      "outputs": [
        {
          "output_type": "stream",
          "name": "stdout",
          "text": [
            "tf.Tensor([3 2 2], shape=(3,), dtype=int64)\n"
          ]
        }
      ]
    },
    {
      "cell_type": "code",
      "source": [
        "print(tf.math.reduce_sum(y,1))"
      ],
      "metadata": {
        "colab": {
          "base_uri": "https://localhost:8080/"
        },
        "id": "s1LVJ2nW2hGK",
        "outputId": "89d2b0a9-1081-44ec-c445-f63a0894feff"
      },
      "execution_count": 18,
      "outputs": [
        {
          "output_type": "stream",
          "name": "stdout",
          "text": [
            "tf.Tensor([10 20 57], shape=(3,), dtype=int32)\n"
          ]
        }
      ]
    }
  ]
}